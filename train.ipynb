{
 "cells": [
  {
   "cell_type": "code",
   "execution_count": 1,
   "id": "a4a47e4a-21dd-474b-a735-f72d29931e05",
   "metadata": {},
   "outputs": [],
   "source": [
    "import pandas as pd\n",
    "import numpy as np\n",
    "import torch\n",
    "import torch.nn as nn\n",
    "import torch.optim as optim\n",
    "from tqdm import tqdm_notebook as tqdm\n",
    "from torch.utils.data import DataLoader, TensorDataset\n",
    "from environment import Env"
   ]
  },
  {
   "cell_type": "code",
   "execution_count": 2,
   "id": "cde7ae5b-b2aa-470f-a76c-338430ae0907",
   "metadata": {},
   "outputs": [],
   "source": [
    "device = torch.device(\"cuda:0\")\n",
    "ALPHA = 0.9"
   ]
  },
  {
   "cell_type": "code",
   "execution_count": 22,
   "id": "ccdcdfb7-c756-4db3-aba4-a80682a46295",
   "metadata": {},
   "outputs": [],
   "source": [
    "class net(nn.Module):\n",
    "    def __init__(self):\n",
    "        super(net, self).__init__()\n",
    "        self.conv1 = nn.Conv2d(2, 4, kernel_size=3)\n",
    "        self.conv2 = nn.Conv2d(4, 8, kernel_size=5, stride=2, padding=1)\n",
    "        # self.conv3 = nn.Conv2d(8, 16, kernel_size=3)\n",
    "        self.flat = nn.Flatten()\n",
    "        self.linear = nn.Linear(288, 225)\n",
    "        self.softmax = nn.Softmax(dim=1)\n",
    "        \n",
    "    def forward(self, x):\n",
    "        out1 = self.conv1(x)\n",
    "        out2 = self.conv2(out1)\n",
    "        out3 = self.flat(out2)\n",
    "        # out4 = self.softmax(self.linear(out3))\n",
    "        out4 = self.linear(out3)\n",
    "        return out4"
   ]
  },
  {
   "cell_type": "code",
   "execution_count": 23,
   "id": "2ea7e9cd-955c-4a6f-bdf3-e4e3cad9a3e2",
   "metadata": {},
   "outputs": [],
   "source": [
    "def player_move(player, model_eval, model_target, game, device):\n",
    "    chess_map, not_pos = game.observe()\n",
    "    situ = torch.Tensor(chess_map).to(device)\n",
    "    situ = torch.reshape(situ, (1, 2, 15, 15))\n",
    "    # print(situ.shape)\n",
    "    out_eval = model_eval(situ)\n",
    "    out_target = model_target(situ)\n",
    "    # print(out_eval)\n",
    "    out_target = out_target.cpu().detach().numpy().reshape((225,))\n",
    "    out_eval = out_eval.cpu().detach().numpy()\n",
    "    move_matrix = out_eval.reshape((225,))\n",
    "    # 转换为一维数组下标\n",
    "    not_pos = not_pos[:, 0] * 15 + not_pos[:, 1]\n",
    "    # 删除不可落子的位置\n",
    "    # print(move_matrix.shape)\n",
    "    move_matrix[not_pos] = move_matrix[not_pos] - 99\n",
    "    out_target[not_pos] = out_target[not_pos] * 0\n",
    "    max_pos = int(np.argmax(move_matrix))\n",
    "    # print(move_matrix.shape)\n",
    "    # print(max_pos)\n",
    "    move_pos = np.unravel_index(max_pos, chess_map[0, :, :].shape)\n",
    "    # 进行落子\n",
    "    state = game.move(player, move_pos[0], move_pos[1])\n",
    "    return chess_map, state, out_target, move_pos"
   ]
  },
  {
   "cell_type": "code",
   "execution_count": 35,
   "id": "d29f9c9d-e10d-4480-826f-785d68d9edd6",
   "metadata": {},
   "outputs": [],
   "source": [
    "def learn(epoch):\n",
    "    eval_0 = net().to(device)\n",
    "    eval_1 = net().to(device)\n",
    "    target_0 = net().to(device)\n",
    "    target_1 = net().to(device)\n",
    "    criterion = nn.MSELoss(reduction='mean')\n",
    "    optimizer_0 = optim.Adam(eval_0.parameters(), lr=0.001)\n",
    "    optimizer_1 = optim.Adam(eval_1.parameters(), lr=0.001)\n",
    "    for i in range(epoch):\n",
    "        if i % 5 == 0:\n",
    "            target_0 = eval_0\n",
    "            target_1 = eval_1\n",
    "        # 进行游戏\n",
    "        memory_situation_0 = []\n",
    "        memory_target_0 = []\n",
    "        memory_situation_1 = []\n",
    "        memory_target_1 = []\n",
    "        move_memory = pd.DataFrame(columns=['player', 'move_x', 'move_y'])\n",
    "        game = Env()\n",
    "        for _ in range(225):\n",
    "            # 白棋落子\n",
    "            chess_map, state, target, move_pos_0 = player_move(0, eval_0, target_0, game, device)\n",
    "            move_memory.loc[len(move_memory)] = [0, move_pos_0[0], move_pos_0[1]]\n",
    "            target *= ALPHA\n",
    "            memory_situation_0.append(chess_map.tolist())\n",
    "            memory_target_0.append(target.tolist())\n",
    "            if state == True:\n",
    "                move_pos_0 = move_pos_0[0] * 15 + move_pos_0[1]\n",
    "                move_pos_1 = move_pos_1[0] * 15 + move_pos_1[1]\n",
    "                # 奖励自己最后一步\n",
    "                memory_target_0[-1][int(move_pos_0)] += 1\n",
    "                # 惩罚对手最后一步\n",
    "                memory_target_1[-1][int(move_pos_1)] += -0.9\n",
    "                break\n",
    "            # 黑棋落子\n",
    "            chess_map, state, target, move_pos_1 = player_move(1, eval_1, target_1, game, device)\n",
    "            move_memory.loc[len(move_memory)] = [1, move_pos_1[0], move_pos_1[1]]\n",
    "            target *= ALPHA\n",
    "            memory_situation_1.append(chess_map.tolist())\n",
    "            memory_target_1.append(target.tolist())\n",
    "            if state == True:\n",
    "                move_pos_0 = move_pos_0[0] * 15 + move_pos_0[1]\n",
    "                move_pos_1 = move_pos_1[0] * 15 + move_pos_1[1]\n",
    "                # 奖励自己最后一步\n",
    "                memory_target_1[-1][int(move_pos_1)] += 1\n",
    "                # 惩罚对手最后一步\n",
    "                memory_target_0[-1][int(move_pos_0)] += -0.9\n",
    "                break\n",
    "        # print(\"game over!\")\n",
    "        move_memory.to_csv('move_dir/game_' + str(i) + '.csv', sep=',')\n",
    "        # 整合成dataloader\n",
    "        m_s_0 = np.array(memory_situation_0)\n",
    "        m_t_0 = np.array(memory_target_0)\n",
    "        m_s_1 = np.array(memory_situation_1)\n",
    "        m_t_1 = np.array(memory_target_1)\n",
    "        m_s_0 = torch.Tensor(m_s_0).to(torch.float32)\n",
    "        m_t_0 = torch.Tensor(m_t_0).to(torch.float32)\n",
    "        m_s_1 = torch.Tensor(m_s_1).to(torch.float32)\n",
    "        m_t_1 = torch.Tensor(m_t_1).to(torch.float32)\n",
    "        m_0 = TensorDataset(m_s_0, m_t_0)\n",
    "        m_1 = TensorDataset(m_s_1, m_t_1)\n",
    "        memoryLoader_0 = DataLoader(m_0, batch_size=8)\n",
    "        memoryLoader_1 = DataLoader(m_0, batch_size=8)\n",
    "        \n",
    "        # 训练\n",
    "        train(eval_0, memoryLoader_0, optimizer_0, criterion, device, 10, i)\n",
    "        train(eval_1, memoryLoader_1, optimizer_1, criterion, device, 10, i)\n",
    "        \n",
    "    print(\"done\")"
   ]
  },
  {
   "cell_type": "code",
   "execution_count": 36,
   "id": "f9767126-48ab-447e-b1b2-7c9ce49848e4",
   "metadata": {},
   "outputs": [],
   "source": [
    "def train(model, dataloader, optimizer, criterion, device, epoch, step):\n",
    "    game_log = pd.DataFrame(columns=['step', 'epoch', 'loss'])\n",
    "    for i in range(epoch):\n",
    "        model.train()\n",
    "        train_loss = 0.0\n",
    "        for _, data in enumerate(dataloader):\n",
    "            optimizer.zero_grad()\n",
    "            situ, target = data[0].to(device), data[1].to(device)\n",
    "            output = model(situ)\n",
    "            loss = criterion(output, target)\n",
    "            loss.backward()\n",
    "            optimizer.step()\n",
    "            train_loss += loss\n",
    "        # print(\"epoch %d: loss = %f\"%(i, train_loss))\n",
    "        game_log.loc[len(game_log)] = [step, i, train_loss.cpu().detach().numpy()]\n",
    "    game_log.to_csv('game_log.csv', sep=',', index=0)"
   ]
  },
  {
   "cell_type": "code",
   "execution_count": 38,
   "id": "d2a38b52-b8fa-41d7-984e-8a7b1e0dacc1",
   "metadata": {},
   "outputs": [
    {
     "ename": "KeyboardInterrupt",
     "evalue": "",
     "output_type": "error",
     "traceback": [
      "\u001b[0;31m---------------------------------------------------------------------------\u001b[0m",
      "\u001b[0;31mKeyboardInterrupt\u001b[0m                         Traceback (most recent call last)",
      "Input \u001b[0;32mIn [38]\u001b[0m, in \u001b[0;36m<cell line: 1>\u001b[0;34m()\u001b[0m\n\u001b[0;32m----> 1\u001b[0m \u001b[43mlearn\u001b[49m\u001b[43m(\u001b[49m\u001b[38;5;241;43m2000\u001b[39;49m\u001b[43m)\u001b[49m\n",
      "Input \u001b[0;32mIn [35]\u001b[0m, in \u001b[0;36mlearn\u001b[0;34m(epoch)\u001b[0m\n\u001b[1;32m     65\u001b[0m \u001b[38;5;66;03m# 训练\u001b[39;00m\n\u001b[1;32m     66\u001b[0m train(eval_0, memoryLoader_0, optimizer_0, criterion, device, \u001b[38;5;241m10\u001b[39m, i)\n\u001b[0;32m---> 67\u001b[0m \u001b[43mtrain\u001b[49m\u001b[43m(\u001b[49m\u001b[43meval_1\u001b[49m\u001b[43m,\u001b[49m\u001b[43m \u001b[49m\u001b[43mmemoryLoader_1\u001b[49m\u001b[43m,\u001b[49m\u001b[43m \u001b[49m\u001b[43moptimizer_1\u001b[49m\u001b[43m,\u001b[49m\u001b[43m \u001b[49m\u001b[43mcriterion\u001b[49m\u001b[43m,\u001b[49m\u001b[43m \u001b[49m\u001b[43mdevice\u001b[49m\u001b[43m,\u001b[49m\u001b[43m \u001b[49m\u001b[38;5;241;43m10\u001b[39;49m\u001b[43m,\u001b[49m\u001b[43m \u001b[49m\u001b[43mi\u001b[49m\u001b[43m)\u001b[49m\n",
      "Input \u001b[0;32mIn [36]\u001b[0m, in \u001b[0;36mtrain\u001b[0;34m(model, dataloader, optimizer, criterion, device, epoch, step)\u001b[0m\n\u001b[1;32m     13\u001b[0m         train_loss \u001b[38;5;241m+\u001b[39m\u001b[38;5;241m=\u001b[39m loss\n\u001b[1;32m     14\u001b[0m     \u001b[38;5;66;03m# print(\"epoch %d: loss = %f\"%(i, train_loss))\u001b[39;00m\n\u001b[0;32m---> 15\u001b[0m     game_log\u001b[38;5;241m.\u001b[39mloc[\u001b[38;5;28mlen\u001b[39m(game_log)] \u001b[38;5;241m=\u001b[39m [step, i, train_loss\u001b[38;5;241m.\u001b[39mcpu()\u001b[38;5;241m.\u001b[39mdetach()\u001b[38;5;241m.\u001b[39mnumpy()]\n\u001b[1;32m     16\u001b[0m game_log\u001b[38;5;241m.\u001b[39mto_csv(\u001b[38;5;124m'\u001b[39m\u001b[38;5;124mgame_log.csv\u001b[39m\u001b[38;5;124m'\u001b[39m, sep\u001b[38;5;241m=\u001b[39m\u001b[38;5;124m'\u001b[39m\u001b[38;5;124m,\u001b[39m\u001b[38;5;124m'\u001b[39m, index\u001b[38;5;241m=\u001b[39m\u001b[38;5;241m0\u001b[39m)\n",
      "File \u001b[0;32m~/miniconda3/lib/python3.8/site-packages/pandas/core/indexing.py:716\u001b[0m, in \u001b[0;36m_LocationIndexer.__setitem__\u001b[0;34m(self, key, value)\u001b[0m\n\u001b[1;32m    713\u001b[0m \u001b[38;5;28mself\u001b[39m\u001b[38;5;241m.\u001b[39m_has_valid_setitem_indexer(key)\n\u001b[1;32m    715\u001b[0m iloc \u001b[38;5;241m=\u001b[39m \u001b[38;5;28mself\u001b[39m \u001b[38;5;28;01mif\u001b[39;00m \u001b[38;5;28mself\u001b[39m\u001b[38;5;241m.\u001b[39mname \u001b[38;5;241m==\u001b[39m \u001b[38;5;124m\"\u001b[39m\u001b[38;5;124miloc\u001b[39m\u001b[38;5;124m\"\u001b[39m \u001b[38;5;28;01melse\u001b[39;00m \u001b[38;5;28mself\u001b[39m\u001b[38;5;241m.\u001b[39mobj\u001b[38;5;241m.\u001b[39miloc\n\u001b[0;32m--> 716\u001b[0m \u001b[43miloc\u001b[49m\u001b[38;5;241;43m.\u001b[39;49m\u001b[43m_setitem_with_indexer\u001b[49m\u001b[43m(\u001b[49m\u001b[43mindexer\u001b[49m\u001b[43m,\u001b[49m\u001b[43m \u001b[49m\u001b[43mvalue\u001b[49m\u001b[43m,\u001b[49m\u001b[43m \u001b[49m\u001b[38;5;28;43mself\u001b[39;49m\u001b[38;5;241;43m.\u001b[39;49m\u001b[43mname\u001b[49m\u001b[43m)\u001b[49m\n",
      "File \u001b[0;32m~/miniconda3/lib/python3.8/site-packages/pandas/core/indexing.py:1682\u001b[0m, in \u001b[0;36m_iLocIndexer._setitem_with_indexer\u001b[0;34m(self, indexer, value, name)\u001b[0m\n\u001b[1;32m   1679\u001b[0m     indexer, missing \u001b[38;5;241m=\u001b[39m convert_missing_indexer(indexer)\n\u001b[1;32m   1681\u001b[0m     \u001b[38;5;28;01mif\u001b[39;00m missing:\n\u001b[0;32m-> 1682\u001b[0m         \u001b[38;5;28;43mself\u001b[39;49m\u001b[38;5;241;43m.\u001b[39;49m\u001b[43m_setitem_with_indexer_missing\u001b[49m\u001b[43m(\u001b[49m\u001b[43mindexer\u001b[49m\u001b[43m,\u001b[49m\u001b[43m \u001b[49m\u001b[43mvalue\u001b[49m\u001b[43m)\u001b[49m\n\u001b[1;32m   1683\u001b[0m         \u001b[38;5;28;01mreturn\u001b[39;00m\n\u001b[1;32m   1685\u001b[0m \u001b[38;5;66;03m# align and set the values\u001b[39;00m\n",
      "File \u001b[0;32m~/miniconda3/lib/python3.8/site-packages/pandas/core/indexing.py:2020\u001b[0m, in \u001b[0;36m_iLocIndexer._setitem_with_indexer_missing\u001b[0;34m(self, indexer, value)\u001b[0m\n\u001b[1;32m   2018\u001b[0m     \u001b[38;5;28mself\u001b[39m\u001b[38;5;241m.\u001b[39mobj\u001b[38;5;241m.\u001b[39m_mgr \u001b[38;5;241m=\u001b[39m df\u001b[38;5;241m.\u001b[39m_mgr\n\u001b[1;32m   2019\u001b[0m \u001b[38;5;28;01melse\u001b[39;00m:\n\u001b[0;32m-> 2020\u001b[0m     \u001b[38;5;28mself\u001b[39m\u001b[38;5;241m.\u001b[39mobj\u001b[38;5;241m.\u001b[39m_mgr \u001b[38;5;241m=\u001b[39m \u001b[38;5;28;43mself\u001b[39;49m\u001b[38;5;241;43m.\u001b[39;49m\u001b[43mobj\u001b[49m\u001b[38;5;241;43m.\u001b[39;49m\u001b[43m_append\u001b[49m\u001b[43m(\u001b[49m\u001b[43mvalue\u001b[49m\u001b[43m)\u001b[49m\u001b[38;5;241m.\u001b[39m_mgr\n\u001b[1;32m   2021\u001b[0m \u001b[38;5;28mself\u001b[39m\u001b[38;5;241m.\u001b[39mobj\u001b[38;5;241m.\u001b[39m_maybe_update_cacher(clear\u001b[38;5;241m=\u001b[39m\u001b[38;5;28;01mTrue\u001b[39;00m)\n",
      "File \u001b[0;32m~/miniconda3/lib/python3.8/site-packages/pandas/core/frame.py:9066\u001b[0m, in \u001b[0;36mDataFrame._append\u001b[0;34m(self, other, ignore_index, verify_integrity, sort)\u001b[0m\n\u001b[1;32m   9060\u001b[0m \u001b[38;5;28;01mif\u001b[39;00m other\u001b[38;5;241m.\u001b[39mname \u001b[38;5;129;01mis\u001b[39;00m \u001b[38;5;28;01mNone\u001b[39;00m \u001b[38;5;129;01mand\u001b[39;00m \u001b[38;5;129;01mnot\u001b[39;00m ignore_index:\n\u001b[1;32m   9061\u001b[0m     \u001b[38;5;28;01mraise\u001b[39;00m \u001b[38;5;167;01mTypeError\u001b[39;00m(\n\u001b[1;32m   9062\u001b[0m         \u001b[38;5;124m\"\u001b[39m\u001b[38;5;124mCan only append a Series if ignore_index=True \u001b[39m\u001b[38;5;124m\"\u001b[39m\n\u001b[1;32m   9063\u001b[0m         \u001b[38;5;124m\"\u001b[39m\u001b[38;5;124mor if the Series has a name\u001b[39m\u001b[38;5;124m\"\u001b[39m\n\u001b[1;32m   9064\u001b[0m     )\n\u001b[0;32m-> 9066\u001b[0m index \u001b[38;5;241m=\u001b[39m \u001b[43mIndex\u001b[49m\u001b[43m(\u001b[49m\u001b[43m[\u001b[49m\u001b[43mother\u001b[49m\u001b[38;5;241;43m.\u001b[39;49m\u001b[43mname\u001b[49m\u001b[43m]\u001b[49m\u001b[43m,\u001b[49m\u001b[43m \u001b[49m\u001b[43mname\u001b[49m\u001b[38;5;241;43m=\u001b[39;49m\u001b[38;5;28;43mself\u001b[39;49m\u001b[38;5;241;43m.\u001b[39;49m\u001b[43mindex\u001b[49m\u001b[38;5;241;43m.\u001b[39;49m\u001b[43mname\u001b[49m\u001b[43m)\u001b[49m\n\u001b[1;32m   9067\u001b[0m idx_diff \u001b[38;5;241m=\u001b[39m other\u001b[38;5;241m.\u001b[39mindex\u001b[38;5;241m.\u001b[39mdifference(\u001b[38;5;28mself\u001b[39m\u001b[38;5;241m.\u001b[39mcolumns)\n\u001b[1;32m   9068\u001b[0m combined_columns \u001b[38;5;241m=\u001b[39m \u001b[38;5;28mself\u001b[39m\u001b[38;5;241m.\u001b[39mcolumns\u001b[38;5;241m.\u001b[39mappend(idx_diff)\n",
      "File \u001b[0;32m~/miniconda3/lib/python3.8/site-packages/pandas/core/indexes/base.py:538\u001b[0m, in \u001b[0;36mIndex.__new__\u001b[0;34m(cls, data, dtype, copy, name, tupleize_cols, **kwargs)\u001b[0m\n\u001b[1;32m    534\u001b[0m     subarr \u001b[38;5;241m=\u001b[39m _maybe_cast_data_without_dtype(  \u001b[38;5;66;03m# type: ignore[assignment]\u001b[39;00m\n\u001b[1;32m    535\u001b[0m         subarr, cast_numeric_deprecated\u001b[38;5;241m=\u001b[39m\u001b[38;5;28;01mFalse\u001b[39;00m\n\u001b[1;32m    536\u001b[0m     )\n\u001b[1;32m    537\u001b[0m     dtype \u001b[38;5;241m=\u001b[39m subarr\u001b[38;5;241m.\u001b[39mdtype\n\u001b[0;32m--> 538\u001b[0m \u001b[38;5;28;01mreturn\u001b[39;00m \u001b[43mIndex\u001b[49m\u001b[43m(\u001b[49m\u001b[43msubarr\u001b[49m\u001b[43m,\u001b[49m\u001b[43m \u001b[49m\u001b[43mdtype\u001b[49m\u001b[38;5;241;43m=\u001b[39;49m\u001b[43mdtype\u001b[49m\u001b[43m,\u001b[49m\u001b[43m \u001b[49m\u001b[43mcopy\u001b[49m\u001b[38;5;241;43m=\u001b[39;49m\u001b[43mcopy\u001b[49m\u001b[43m,\u001b[49m\u001b[43m \u001b[49m\u001b[43mname\u001b[49m\u001b[38;5;241;43m=\u001b[39;49m\u001b[43mname\u001b[49m\u001b[43m,\u001b[49m\u001b[43m \u001b[49m\u001b[38;5;241;43m*\u001b[39;49m\u001b[38;5;241;43m*\u001b[39;49m\u001b[43mkwargs\u001b[49m\u001b[43m)\u001b[49m\n",
      "File \u001b[0;32m~/miniconda3/lib/python3.8/site-packages/pandas/core/indexes/base.py:503\u001b[0m, in \u001b[0;36mIndex.__new__\u001b[0;34m(cls, data, dtype, copy, name, tupleize_cols, **kwargs)\u001b[0m\n\u001b[1;32m    500\u001b[0m             \u001b[38;5;28;01mreturn\u001b[39;00m \u001b[38;5;28mcls\u001b[39m(arr, dtype, copy\u001b[38;5;241m=\u001b[39mcopy, name\u001b[38;5;241m=\u001b[39mname, \u001b[38;5;241m*\u001b[39m\u001b[38;5;241m*\u001b[39mkwargs)\n\u001b[1;32m    502\u001b[0m klass \u001b[38;5;241m=\u001b[39m \u001b[38;5;28mcls\u001b[39m\u001b[38;5;241m.\u001b[39m_dtype_to_subclass(arr\u001b[38;5;241m.\u001b[39mdtype)\n\u001b[0;32m--> 503\u001b[0m arr \u001b[38;5;241m=\u001b[39m \u001b[43mklass\u001b[49m\u001b[38;5;241;43m.\u001b[39;49m\u001b[43m_ensure_array\u001b[49m\u001b[43m(\u001b[49m\u001b[43marr\u001b[49m\u001b[43m,\u001b[49m\u001b[43m \u001b[49m\u001b[43mdtype\u001b[49m\u001b[43m,\u001b[49m\u001b[43m \u001b[49m\u001b[43mcopy\u001b[49m\u001b[43m)\u001b[49m\n\u001b[1;32m    504\u001b[0m disallow_kwargs(kwargs)\n\u001b[1;32m    505\u001b[0m \u001b[38;5;28;01mreturn\u001b[39;00m klass\u001b[38;5;241m.\u001b[39m_simple_new(arr, name)\n",
      "File \u001b[0;32m~/miniconda3/lib/python3.8/site-packages/pandas/core/indexes/numeric.py:144\u001b[0m, in \u001b[0;36mNumericIndex._ensure_array\u001b[0;34m(cls, data, dtype, copy)\u001b[0m\n\u001b[1;32m    139\u001b[0m \u001b[38;5;129m@classmethod\u001b[39m\n\u001b[1;32m    140\u001b[0m \u001b[38;5;28;01mdef\u001b[39;00m \u001b[38;5;21m_ensure_array\u001b[39m(\u001b[38;5;28mcls\u001b[39m, data, dtype, copy: \u001b[38;5;28mbool\u001b[39m):\n\u001b[1;32m    141\u001b[0m     \u001b[38;5;124;03m\"\"\"\u001b[39;00m\n\u001b[1;32m    142\u001b[0m \u001b[38;5;124;03m    Ensure we have a valid array to pass to _simple_new.\u001b[39;00m\n\u001b[1;32m    143\u001b[0m \u001b[38;5;124;03m    \"\"\"\u001b[39;00m\n\u001b[0;32m--> 144\u001b[0m     \u001b[38;5;28;43mcls\u001b[39;49m\u001b[38;5;241;43m.\u001b[39;49m\u001b[43m_validate_dtype\u001b[49m\u001b[43m(\u001b[49m\u001b[43mdtype\u001b[49m\u001b[43m)\u001b[49m\n\u001b[1;32m    146\u001b[0m     \u001b[38;5;28;01mif\u001b[39;00m \u001b[38;5;129;01mnot\u001b[39;00m \u001b[38;5;28misinstance\u001b[39m(data, (np\u001b[38;5;241m.\u001b[39mndarray, Index)):\n\u001b[1;32m    147\u001b[0m         \u001b[38;5;66;03m# Coerce to ndarray if not already ndarray or Index\u001b[39;00m\n\u001b[1;32m    148\u001b[0m         \u001b[38;5;28;01mif\u001b[39;00m is_scalar(data):\n",
      "File \u001b[0;32m~/miniconda3/lib/python3.8/site-packages/pandas/core/indexes/numeric.py:194\u001b[0m, in \u001b[0;36mNumericIndex._validate_dtype\u001b[0;34m(cls, dtype)\u001b[0m\n\u001b[1;32m    191\u001b[0m     \u001b[38;5;28;01mreturn\u001b[39;00m\n\u001b[1;32m    193\u001b[0m validation_func, expected \u001b[38;5;241m=\u001b[39m \u001b[38;5;28mcls\u001b[39m\u001b[38;5;241m.\u001b[39m_dtype_validation_metadata\n\u001b[0;32m--> 194\u001b[0m \u001b[38;5;28;01mif\u001b[39;00m \u001b[38;5;129;01mnot\u001b[39;00m \u001b[43mvalidation_func\u001b[49m\u001b[43m(\u001b[49m\u001b[43mdtype\u001b[49m\u001b[43m)\u001b[49m:\n\u001b[1;32m    195\u001b[0m     \u001b[38;5;28;01mraise\u001b[39;00m \u001b[38;5;167;01mValueError\u001b[39;00m(\n\u001b[1;32m    196\u001b[0m         \u001b[38;5;124mf\u001b[39m\u001b[38;5;124m\"\u001b[39m\u001b[38;5;124mIncorrect `dtype` passed: expected \u001b[39m\u001b[38;5;132;01m{\u001b[39;00mexpected\u001b[38;5;132;01m}\u001b[39;00m\u001b[38;5;124m, received \u001b[39m\u001b[38;5;132;01m{\u001b[39;00mdtype\u001b[38;5;132;01m}\u001b[39;00m\u001b[38;5;124m\"\u001b[39m\n\u001b[1;32m    197\u001b[0m     )\n",
      "File \u001b[0;32m~/miniconda3/lib/python3.8/site-packages/pandas/core/dtypes/common.py:783\u001b[0m, in \u001b[0;36mis_signed_integer_dtype\u001b[0;34m(arr_or_dtype)\u001b[0m\n\u001b[1;32m    732\u001b[0m \u001b[38;5;28;01mdef\u001b[39;00m \u001b[38;5;21mis_signed_integer_dtype\u001b[39m(arr_or_dtype) \u001b[38;5;241m-\u001b[39m\u001b[38;5;241m>\u001b[39m \u001b[38;5;28mbool\u001b[39m:\n\u001b[1;32m    733\u001b[0m     \u001b[38;5;124;03m\"\"\"\u001b[39;00m\n\u001b[1;32m    734\u001b[0m \u001b[38;5;124;03m    Check whether the provided array or dtype is of a signed integer dtype.\u001b[39;00m\n\u001b[1;32m    735\u001b[0m \n\u001b[0;32m   (...)\u001b[0m\n\u001b[1;32m    781\u001b[0m \u001b[38;5;124;03m    False\u001b[39;00m\n\u001b[1;32m    782\u001b[0m \u001b[38;5;124;03m    \"\"\"\u001b[39;00m\n\u001b[0;32m--> 783\u001b[0m     \u001b[38;5;28;01mreturn\u001b[39;00m _is_dtype_type(arr_or_dtype, \u001b[43mclasses_and_not_datetimelike\u001b[49m\u001b[43m(\u001b[49m\u001b[43mnp\u001b[49m\u001b[38;5;241;43m.\u001b[39;49m\u001b[43msignedinteger\u001b[49m\u001b[43m)\u001b[49m)\n",
      "File \u001b[0;32m~/miniconda3/lib/python3.8/site-packages/pandas/core/dtypes/common.py:155\u001b[0m, in \u001b[0;36mclasses_and_not_datetimelike\u001b[0;34m(*klasses)\u001b[0m\n\u001b[1;32m    150\u001b[0m \u001b[38;5;28;01mdef\u001b[39;00m \u001b[38;5;21mclasses_and_not_datetimelike\u001b[39m(\u001b[38;5;241m*\u001b[39mklasses) \u001b[38;5;241m-\u001b[39m\u001b[38;5;241m>\u001b[39m Callable:\n\u001b[1;32m    151\u001b[0m     \u001b[38;5;124;03m\"\"\"\u001b[39;00m\n\u001b[1;32m    152\u001b[0m \u001b[38;5;124;03m    Evaluate if the tipo is a subclass of the klasses\u001b[39;00m\n\u001b[1;32m    153\u001b[0m \u001b[38;5;124;03m    and not a datetimelike.\u001b[39;00m\n\u001b[1;32m    154\u001b[0m \u001b[38;5;124;03m    \"\"\"\u001b[39;00m\n\u001b[0;32m--> 155\u001b[0m     \u001b[38;5;28;01mreturn\u001b[39;00m \u001b[38;5;28;01mlambda\u001b[39;00m tipo: (\n\u001b[1;32m    156\u001b[0m         \u001b[38;5;28missubclass\u001b[39m(tipo, klasses)\n\u001b[1;32m    157\u001b[0m         \u001b[38;5;129;01mand\u001b[39;00m \u001b[38;5;129;01mnot\u001b[39;00m \u001b[38;5;28missubclass\u001b[39m(tipo, (np\u001b[38;5;241m.\u001b[39mdatetime64, np\u001b[38;5;241m.\u001b[39mtimedelta64))\n\u001b[1;32m    158\u001b[0m     )\n",
      "\u001b[0;31mKeyboardInterrupt\u001b[0m: "
     ]
    }
   ],
   "source": [
    "learn(2000)"
   ]
  },
  {
   "cell_type": "code",
   "execution_count": 132,
   "id": "f8b925f5-1f57-471f-866b-a7eb960994f9",
   "metadata": {},
   "outputs": [
    {
     "data": {
      "text/plain": [
       "1"
      ]
     },
     "execution_count": 132,
     "metadata": {},
     "output_type": "execute_result"
    }
   ],
   "source": [
    "torch.cuda.device_count()"
   ]
  },
  {
   "cell_type": "code",
   "execution_count": null,
   "id": "35e17691-6c8d-4930-882e-2356908108b1",
   "metadata": {},
   "outputs": [],
   "source": []
  }
 ],
 "metadata": {
  "kernelspec": {
   "display_name": "Python 3",
   "language": "python",
   "name": "python3"
  },
  "language_info": {
   "codemirror_mode": {
    "name": "ipython",
    "version": 3
   },
   "file_extension": ".py",
   "mimetype": "text/x-python",
   "name": "python",
   "nbconvert_exporter": "python",
   "pygments_lexer": "ipython3",
   "version": "3.8.10"
  }
 },
 "nbformat": 4,
 "nbformat_minor": 5
}
